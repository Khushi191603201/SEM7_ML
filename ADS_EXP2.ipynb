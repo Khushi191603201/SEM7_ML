{
  "nbformat": 4,
  "nbformat_minor": 0,
  "metadata": {
    "colab": {
      "provenance": []
    },
    "kernelspec": {
      "name": "python3",
      "display_name": "Python 3"
    },
    "language_info": {
      "name": "python"
    }
  },
  "cells": [
    {
      "cell_type": "code",
      "execution_count": null,
      "metadata": {
        "id": "SYOEXCTidgb-"
      },
      "outputs": [],
      "source": [
        "import pandas as pd\n",
        "import numpy as np \n",
        "import seaborn as sns\n",
        "import matplotlib.pyplot as plt\n",
        "titanic_df = pd.read_csv('/content/titanic_data.csv')"
      ]
    },
    {
      "cell_type": "code",
      "source": [
        "titanic_df.columns = ['PassengerID','Survival','Pclass','Name','Sex','Age','SibSp','Parch','Ticket','Fare','Cabin','Embarked']\n",
        "\n",
        "print('There are '+str(len(titanic_df[titanic_df['Age'].isnull() == True]))+' rows with no Age data')"
      ],
      "metadata": {
        "colab": {
          "base_uri": "https://localhost:8080/"
        },
        "id": "v1uR8FwqeAvA",
        "outputId": "c4469b80-b4f9-4998-d3bf-7eb847840dd0"
      },
      "execution_count": null,
      "outputs": [
        {
          "output_type": "stream",
          "name": "stdout",
          "text": [
            "There are 177 rows with no Age data\n"
          ]
        }
      ]
    },
    {
      "cell_type": "code",
      "source": [
        "print('mean=',titanic_df['Age'].mean())\n",
        "print('median=',titanic_df['Age'].median())\n",
        "print('mode=',titanic_df['Age'].mode())"
      ],
      "metadata": {
        "colab": {
          "base_uri": "https://localhost:8080/"
        },
        "id": "AQs5yK4jjYvl",
        "outputId": "6c505e10-66b9-431d-e402-75306c99e64c"
      },
      "execution_count": null,
      "outputs": [
        {
          "output_type": "stream",
          "name": "stdout",
          "text": [
            "mean= 29.69911764705882\n",
            "median= 28.0\n",
            "mode= 0    24.0\n",
            "dtype: float64\n"
          ]
        }
      ]
    },
    {
      "cell_type": "code",
      "source": [
        "print(\"Variance=\", np.var(titanic_df['Age']))\n",
        "print(\"Mean=\", np.mean(titanic_df['Age']))\n",
        "print(\"Min=\", np.min(titanic_df['Age']))\n",
        "print(\"Max=\", np.max(titanic_df['Age']))\n",
        "print(\"Range=\", np.max(titanic_df['Age']) - np.min(titanic_df['Age']))"
      ],
      "metadata": {
        "colab": {
          "base_uri": "https://localhost:8080/"
        },
        "id": "N83UJSkTlOud",
        "outputId": "58f44080-ef6a-4832-dbba-f97db7f5c84f"
      },
      "execution_count": null,
      "outputs": [
        {
          "output_type": "stream",
          "name": "stdout",
          "text": [
            "Variance= 210.72357975366614\n",
            "Mean= 29.69911764705882\n",
            "Min= 0.42\n",
            "Max= 80.0\n",
            "Range= 79.58\n"
          ]
        }
      ]
    },
    {
      "cell_type": "code",
      "source": [
        "print('Standard Deviation=',titanic_df['Age'].std())"
      ],
      "metadata": {
        "colab": {
          "base_uri": "https://localhost:8080/"
        },
        "id": "CGQ3VP0vlaA8",
        "outputId": "51be085b-1d92-4b5b-ab43-b741b4979061"
      },
      "execution_count": null,
      "outputs": [
        {
          "output_type": "stream",
          "name": "stdout",
          "text": [
            "Standard Deviation= 14.526497332334042\n"
          ]
        }
      ]
    }
  ]
}